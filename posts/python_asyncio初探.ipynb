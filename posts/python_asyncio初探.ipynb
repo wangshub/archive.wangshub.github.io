{
 "cells": [
  {
   "cell_type": "markdown",
   "metadata": {},
   "source": [
    "# Python Asyncio 库初窥\n",
    "\n",
    "最近受 [awesome-asyncio-cn](https://github.com/chenjiandongx/awesome-asyncio-cn) 的启发开始接触在 Python 中进行异步编程，这篇博文用来记载我学习 Asyncio 的笔记。\n",
    "\n",
    "在异步编程当中，经常会看到或者接触到**异步**、**并发**和**并行**"
   ]
  },
  {
   "cell_type": "code",
   "execution_count": 1,
   "metadata": {},
   "outputs": [
    {
     "name": "stdout",
     "output_type": "stream",
     "text": [
      "hello\n"
     ]
    }
   ],
   "source": [
    "print(\"hello\")"
   ]
  },
  {
   "cell_type": "code",
   "execution_count": null,
   "metadata": {},
   "outputs": [],
   "source": []
  }
 ],
 "metadata": {
  "kernelspec": {
   "display_name": "Python 3",
   "language": "python",
   "name": "python3"
  },
  "language_info": {
   "codemirror_mode": {
    "name": "ipython",
    "version": 3
   },
   "file_extension": ".py",
   "mimetype": "text/x-python",
   "name": "python",
   "nbconvert_exporter": "python",
   "pygments_lexer": "ipython3",
   "version": "3.7.0"
  }
 },
 "nbformat": 4,
 "nbformat_minor": 2
}
